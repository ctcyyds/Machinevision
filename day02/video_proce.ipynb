{
 "cells": [
  {
   "attachments": {},
   "cell_type": "markdown",
   "metadata": {},
   "source": [
    "# 导入视频"
   ]
  },
  {
   "cell_type": "code",
   "execution_count": 1,
   "metadata": {},
   "outputs": [],
   "source": [
    "import cv2 as cv\n",
    "import matplotlib as plt"
   ]
  },
  {
   "cell_type": "code",
   "execution_count": 2,
   "metadata": {},
   "outputs": [
    {
     "data": {
      "text/plain": [
       "True"
      ]
     },
     "execution_count": 2,
     "metadata": {},
     "output_type": "execute_result"
    }
   ],
   "source": [
    "capture = cv.VideoCapture(\"img/twotiger.avi\")\n",
    "capture.isOpened()"
   ]
  },
  {
   "cell_type": "code",
   "execution_count": 3,
   "metadata": {},
   "outputs": [
    {
     "data": {
      "text/plain": [
       "-1"
      ]
     },
     "execution_count": 3,
     "metadata": {},
     "output_type": "execute_result"
    }
   ],
   "source": [
    "# 获取视频属性\n",
    "fps = capture.get(cv.CAP_PROP_FPS)\n",
    "count = capture.get(cv.CAP_PROP_FRAME_COUNT)\n",
    "width = capture.get(cv.CAP_PROP_FRAME_WIDTH)\n",
    "height = capture.get(cv.CAP_PROP_FRAME_HEIGHT)\n",
    "\n",
    "# 从视频读取视频帧\n",
    "success,frame = capture.read()\n",
    "while True:\n",
    "    cv.imshow(\"frame\",frame)\n",
    "    delay = int(1000/fps)\n",
    "    cv.waitKey(delay)\n",
    "    success,frame = capture.read()\n",
    "\n",
    "capture.release()"
   ]
  },
  {
   "cell_type": "code",
   "execution_count": 1,
   "metadata": {},
   "outputs": [
    {
     "name": "stdout",
     "output_type": "stream",
     "text": [
      "True\n"
     ]
    },
    {
     "ename": "KeyboardInterrupt",
     "evalue": "",
     "output_type": "error",
     "traceback": [
      "\u001b[1;31m---------------------------------------------------------------------------\u001b[0m",
      "\u001b[1;31mKeyboardInterrupt\u001b[0m                         Traceback (most recent call last)",
      "Cell \u001b[1;32mIn[1], line 12\u001b[0m\n\u001b[0;32m     10\u001b[0m     \u001b[39m# 延时\u001b[39;00m\n\u001b[0;32m     11\u001b[0m     cv\u001b[39m.\u001b[39mwaitKey(\u001b[39m1\u001b[39m)\n\u001b[1;32m---> 12\u001b[0m     success,frame \u001b[39m=\u001b[39m capture\u001b[39m.\u001b[39;49mread()\n\u001b[0;32m     14\u001b[0m \u001b[39m# 释放资源\u001b[39;00m\n\u001b[0;32m     15\u001b[0m capture\u001b[39m.\u001b[39mrelease()\n",
      "\u001b[1;31mKeyboardInterrupt\u001b[0m: "
     ]
    },
    {
     "ename": "",
     "evalue": "",
     "output_type": "error",
     "traceback": [
      "\u001b[1;31m在当前单元格或上一个单元格中执行代码时 Kernel 崩溃。请查看单元格中的代码，以确定故障的可能原因。有关详细信息，请单击 <a href='https://aka.ms/vscodeJupyterKernelCrash'>此处</a>。有关更多详细信息，请查看 Jupyter <a href='command:jupyter.viewOutput'>log</a>。"
     ]
    }
   ],
   "source": [
    "import cv2 as cv \n",
    "\n",
    "# 读取摄像头\n",
    "capture = cv.VideoCapture(0)# 0为编号\n",
    "print(capture.isOpened())\n",
    "\n",
    "success,frame = capture.read()\n",
    "while True:\n",
    "    cv.imshow(\"frame\",frame)\n",
    "    # 延时\n",
    "    cv.waitKey(1)\n",
    "    success,frame = capture.read()\n",
    "\n",
    "# 释放资源\n",
    "capture.release()"
   ]
  }
 ],
 "metadata": {
  "kernelspec": {
   "display_name": "Python 3 (ipykernel)",
   "language": "python",
   "name": "python3"
  },
  "language_info": {
   "codemirror_mode": {
    "name": "ipython",
    "version": 3
   },
   "file_extension": ".py",
   "mimetype": "text/x-python",
   "name": "python",
   "nbconvert_exporter": "python",
   "pygments_lexer": "ipython3",
   "version": "3.9.13"
  },
  "toc": {
   "base_numbering": 1,
   "nav_menu": {},
   "number_sections": true,
   "sideBar": true,
   "skip_h1_title": false,
   "title_cell": "Table of Contents",
   "title_sidebar": "Contents",
   "toc_cell": false,
   "toc_position": {},
   "toc_section_display": true,
   "toc_window_display": false
  }
 },
 "nbformat": 4,
 "nbformat_minor": 2
}
