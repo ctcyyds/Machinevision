{
 "cells": [
  {
   "cell_type": "code",
   "execution_count": 13,
   "metadata": {},
   "outputs": [],
   "source": [
    "import cv2 as cv\n",
    "import matplotlib.pyplot as plt\n",
    "def show_pic(img):\n",
    "    dst = cv.cvtColor(img,cv.COLOR_BGR2RGB)\n",
    "    plt.show(dst)"
   ]
  },
  {
   "cell_type": "code",
   "execution_count": 16,
   "metadata": {},
   "outputs": [
    {
     "ename": "NameError",
     "evalue": "name 'show_pic' is not defined",
     "output_type": "error",
     "traceback": [
      "\u001b[1;31m---------------------------------------------------------------------------\u001b[0m",
      "\u001b[1;31mNameError\u001b[0m                                 Traceback (most recent call last)",
      "Cell \u001b[1;32mIn[16], line 23\u001b[0m\n\u001b[0;32m     19\u001b[0m \u001b[39m# cv.imshow(\"itheima\",itheima_img)\u001b[39;00m\n\u001b[0;32m     20\u001b[0m \n\u001b[0;32m     21\u001b[0m \u001b[39m# 将抠出来的狮子与处理过的itheima图片加载一起\u001b[39;00m\n\u001b[0;32m     22\u001b[0m result \u001b[39m=\u001b[39m itheima_img \u001b[39m+\u001b[39m msk_img\n\u001b[1;32m---> 23\u001b[0m show_pic(result)\n\u001b[0;32m     24\u001b[0m \u001b[39m# plt.imshow(result)\u001b[39;00m\n\u001b[0;32m     25\u001b[0m \u001b[39m# cv.imshow(\"result\",result)\u001b[39;00m\n\u001b[0;32m     26\u001b[0m \u001b[39m# cv.waitKey(0)\u001b[39;00m\n\u001b[0;32m     27\u001b[0m \u001b[39m# cv.destroyAllWindows()\u001b[39;00m\n",
      "\u001b[1;31mNameError\u001b[0m: name 'show_pic' is not defined"
     ]
    }
   ],
   "source": [
    "\n",
    "# 导入图片\n",
    "green_img = cv.imread(\"img/lion.jpg\",cv.IMREAD_COLOR)\n",
    "hsv_img = cv.cvtColor(green_img,cv.COLOR_BGR2HSV)\n",
    "# 定义绿幕范围\n",
    "lower_green = (35,43,60)\n",
    "upper_green = (77,255,255)\n",
    "# 使用inrange找出所有的背景区域\n",
    "mask_green = cv.inRange(hsv_img,lower_green,upper_green)\n",
    "\n",
    "# 复制狮子绿幕图片\n",
    "msk_img = green_img.copy()\n",
    "# 将绿幕图片，对应蒙版图片中所有不为0的地方全部改为0\n",
    "msk_img[mask_green!=0]=(0,0,0)\n",
    "# cv.imshow(\"dst\",msk_img)\n",
    "\n",
    "# 导入图片，对应蒙版图片为0的地方全都改为0，抠出狮子要存放的位置\n",
    "itheima_img = cv.imread(\"img/itheima.jpg\",cv.IMREAD_COLOR)\n",
    "itheima_img[mask_green == 0] = (0,0,0)\n",
    "# cv.imshow(\"itheima\",itheima_img)\n",
    "\n",
    "# 将抠出来的狮子与处理过的itheima图片加载一起\n",
    "result = itheima_img + msk_img\n",
    "show_pic(result)\n",
    "# plt.imshow(result)\n",
    "# cv.imshow(\"result\",result)\n",
    "# cv.waitKey(0)\n",
    "# cv.destroyAllWindows()"
   ]
  },
  {
   "cell_type": "code",
   "execution_count": null,
   "metadata": {},
   "outputs": [],
   "source": []
  }
 ],
 "metadata": {
  "kernelspec": {
   "display_name": "torchenv",
   "language": "python",
   "name": "python3"
  },
  "language_info": {
   "codemirror_mode": {
    "name": "ipython",
    "version": 3
   },
   "file_extension": ".py",
   "mimetype": "text/x-python",
   "name": "python",
   "nbconvert_exporter": "python",
   "pygments_lexer": "ipython3",
   "version": "3.9.13"
  },
  "orig_nbformat": 4
 },
 "nbformat": 4,
 "nbformat_minor": 2
}
